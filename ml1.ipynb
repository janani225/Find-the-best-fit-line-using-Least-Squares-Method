{
  "nbformat": 4,
  "nbformat_minor": 0,
  "metadata": {
    "colab": {
      "provenance": [],
      "authorship_tag": "ABX9TyNLjiM+ZaQR9FSp1KiSjezy",
      "include_colab_link": true
    },
    "kernelspec": {
      "name": "python3",
      "display_name": "Python 3"
    },
    "language_info": {
      "name": "python"
    }
  },
  "cells": [
    {
      "cell_type": "markdown",
      "metadata": {
        "id": "view-in-github",
        "colab_type": "text"
      },
      "source": [
        "<a href=\"https://colab.research.google.com/github/janani225/Find-the-best-fit-line-using-Least-Squares-Method/blob/main/ml1.ipynb\" target=\"_parent\"><img src=\"https://colab.research.google.com/assets/colab-badge.svg\" alt=\"Open In Colab\"/></a>"
      ]
    },
    {
      "cell_type": "code",
      "execution_count": 1,
      "metadata": {
        "id": "WnT7HYvHlOy6"
      },
      "outputs": [],
      "source": [
        "import numpy as np\n",
        "import matplotlib.pyplot as plt"
      ]
    },
    {
      "cell_type": "code",
      "source": [
        "X= np.array(eval(input()))\n",
        "Y= np.array(eval(input()))\n"
      ],
      "metadata": {
        "colab": {
          "base_uri": "https://localhost:8080/"
        },
        "id": "o58KhnkilvY5",
        "outputId": "1c7a1c18-5b46-40df-8435-90af8cc20a48"
      },
      "execution_count": 8,
      "outputs": [
        {
          "name": "stdout",
          "output_type": "stream",
          "text": [
            "12,23,34,45,56,67,78,89\n",
            "11,24,35,46,57,68,78,79\n"
          ]
        }
      ]
    },
    {
      "cell_type": "code",
      "source": [
        "X_mean= np.mean(X)\n",
        "Y_mean= np.mean(Y)\n",
        "num=0\n",
        "denom=0"
      ],
      "metadata": {
        "id": "VYxIMJiOlyHu"
      },
      "execution_count": 9,
      "outputs": []
    },
    {
      "cell_type": "code",
      "source": [
        "for i in range(len(X)):\n",
        "    num+=(X[i]-X_mean)*(Y[i]-Y_mean)\n",
        "    denom+=(X[i]-X_mean)**2"
      ],
      "metadata": {
        "id": "mdU4ntbkmASl"
      },
      "execution_count": 10,
      "outputs": []
    },
    {
      "cell_type": "code",
      "source": [
        "m=num/denom\n",
        "\n",
        "b=Y_mean - m*X_mean\n",
        "\n",
        "print(m,b)\n"
      ],
      "metadata": {
        "colab": {
          "base_uri": "https://localhost:8080/"
        },
        "id": "z2vLjLf2mCEr",
        "outputId": "2de0bc2c-3722-4281-f670-4f2f97419d05"
      },
      "execution_count": 11,
      "outputs": [
        {
          "output_type": "stream",
          "name": "stdout",
          "text": [
            "0.9264069264069265 2.9664502164502125\n"
          ]
        }
      ]
    },
    {
      "cell_type": "code",
      "source": [
        "Y_predicted=m*X + b\n",
        "\n",
        "print(Y_predicted)\n"
      ],
      "metadata": {
        "colab": {
          "base_uri": "https://localhost:8080/"
        },
        "id": "hFyH4sqFmDsd",
        "outputId": "1f6f4e7f-4906-4989-c7f9-ebe4fc5215ad"
      },
      "execution_count": 12,
      "outputs": [
        {
          "output_type": "stream",
          "name": "stdout",
          "text": [
            "[14.08333333 24.27380952 34.46428571 44.6547619  54.8452381  65.03571429\n",
            " 75.22619048 85.41666667]\n"
          ]
        }
      ]
    },
    {
      "cell_type": "code",
      "source": [
        "plt.scatter(X,Y)\n",
        "plt.plot(X,Y_predicted,color='red')\n",
        "plt.show()"
      ],
      "metadata": {
        "colab": {
          "base_uri": "https://localhost:8080/",
          "height": 430
        },
        "id": "0K5Pq74MmFbd",
        "outputId": "727ae5fc-7a5a-4f6d-b130-fc863a961b39"
      },
      "execution_count": 14,
      "outputs": [
        {
          "output_type": "display_data",
          "data": {
            "text/plain": [
              "<Figure size 640x480 with 1 Axes>"
            ],
            "image/png": "[encoded data removed]"
          },
          "metadata": {}
        }
      ]
    },
    {
      "cell_type": "code",
      "source": [],
      "metadata": {
        "id": "_gIMyIHsmHFg"
      },
      "execution_count": 13,
      "outputs": []
    }
  ]
}